{
 "cells": [
  {
   "cell_type": "markdown",
   "id": "f7eb72ff-3af0-4da0-9abe-37acb2badb3b",
   "metadata": {},
   "source": [
    "## Tutorial on getting started with graph ML\n",
    "[YouTube](https://www.youtube.com/watch?v=1wcegu6ked0)"
   ]
  },
  {
   "cell_type": "code",
   "execution_count": 1,
   "id": "7f8f2840-3e17-471d-8ce3-14f10965d539",
   "metadata": {},
   "outputs": [
    {
     "name": "stdout",
     "output_type": "stream",
     "text": [
      "\n",
      "Number of nodes: 5\n",
      "Number of features: 1\n",
      "Number of edges: 7\n",
      "\n"
     ]
    },
    {
     "data": {
      "image/png": "[encoded data removed]",
      "text/plain": [
       "<Figure size 432x288 with 2 Axes>"
      ]
     },
     "metadata": {},
     "output_type": "display_data"
    },
    {
     "data": {
      "image/png": "[encoded data removed]",
      "text/plain": [
       "<Figure size 432x288 with 2 Axes>"
      ]
     },
     "metadata": {},
     "output_type": "display_data"
    },
    {
     "data": {
      "text/plain": [
       "<Figure size 432x288 with 0 Axes>"
      ]
     },
     "metadata": {},
     "output_type": "display_data"
    }
   ],
   "source": [
    "import numpy as np\n",
    "import torch\n",
    "import matplotlib.pyplot as plt\n",
    "%matplotlib inline\n",
    "from torch_geometric.data import Data\n",
    "import torch_geometric\n",
    "\n",
    "import networkx as nx # for visualisation\n",
    "\n",
    "# Define graph nodes and their features\n",
    "x = torch.randn(5)\n",
    "# Define nodes' position in 2D space\n",
    "pos = torch.rand((5, 2))\n",
    "# Graph edges\n",
    "edge_index = torch.tensor([[0, 1],\n",
    "                           [1, 0],\n",
    "                           [3, 0],\n",
    "                           [1, 3],\n",
    "                           [2, 1],\n",
    "                           [1, 1],\n",
    "                           [4, 1]],\n",
    "                           dtype=torch.long)\n",
    "\n",
    "labels = [0, 1, 1, 1, 0]\n",
    "\n",
    "# Creating the pytorch geometric object\n",
    "data = Data(x=x, pos=pos, edge_index=edge_index.t().contiguous(), y=labels)\n",
    "\n",
    "### Visualising the created graph structure ###\n",
    "\n",
    "fig, (ax1, ax2) = plt.subplots(1, 2)\n",
    "fig.suptitle('Directed graph structure')\n",
    "\n",
    "# Converting from pytorch geometric to networkx for visualization\n",
    "g = torch_geometric.utils.to_networkx(data, to_undirected=False)\n",
    "nx.draw(g, pos=pos.numpy(), with_labels=True, cmap=plt.get_cmap('Set3'), node_color=data.y, ax=ax1)\n",
    "\n",
    "adj = torch_geometric.utils.to_dense_adj(data.edge_index).squeeze()\n",
    "ax2.imshow(adj.numpy())\n",
    "\n",
    "### Visualising the created graph structure as an undirected graph ###\n",
    "\n",
    "fig2, (ax21, ax22) = plt.subplots(1, 2)\n",
    "fig2.suptitle('Undirected graph structure')\n",
    "\n",
    "undirected_edges = torch_geometric.utils.to_undirected(data.edge_index)\n",
    "data_u = Data(x=x, edge_index=undirected_edges, y=labels, pos=pos)\n",
    "\n",
    "g = torch_geometric.utils.to_networkx(data_u, to_undirected=False)\n",
    "nx.draw(g, pos=pos.numpy(), with_labels=True, cmap=plt.get_cmap('Set3'), node_color=data.y, ax=ax21)\n",
    "\n",
    "adj = torch_geometric.utils.to_dense_adj(data_u.edge_index).squeeze()\n",
    "ax22.imshow(adj.numpy())\n",
    "\n",
    "# Converting to undirected graph\n",
    "plt.figure()\n",
    "\n",
    "### Visualising the created graph structure ###\n",
    "print()\n",
    "print(f\"Number of nodes: {data.num_nodes}\")\n",
    "print(f\"Number of features: {data.num_node_features}\")\n",
    "print(f\"Number of edges: {data.num_edges}\")\n",
    "print()"
   ]
  },
  {
   "cell_type": "markdown",
   "id": "6d534931-8c18-4178-8535-b12fb5aa314a",
   "metadata": {},
   "source": [
    "## Building a graph classifier"
   ]
  },
  {
   "cell_type": "code",
   "execution_count": 2,
   "id": "349c8fbc-5c09-49c8-bd96-b5d8e9576915",
   "metadata": {},
   "outputs": [
    {
     "name": "stdout",
     "output_type": "stream",
     "text": [
      "Downloading https://www.chrsmrrs.com/graphkerneldatasets/PROTEINS.zip\n",
      "Extracting /tmp/data/PROTEINS/PROTEINS.zip\n",
      "Processing...\n",
      "Done!\n",
      "\n",
      "Dataset: PROTEINS(1113):\n",
      "======================\n",
      "Number of graphs: 1113\n",
      "Number of features: 3\n",
      "Number of classes: 2\n"
     ]
    }
   ],
   "source": [
    "## Download the data and print some dataset properties\n",
    "from torch_geometric.datasets import TUDataset\n",
    "\n",
    "dataset = TUDataset(root='/tmp/data', name='PROTEINS')\n",
    "\n",
    "print()\n",
    "print(f\"Dataset: {dataset}:\")\n",
    "print('======================')\n",
    "print(f'Number of graphs: {len(dataset)}')\n",
    "print(f'Number of features: {dataset.num_features}')\n",
    "print(f'Number of classes: {dataset.num_classes}')"
   ]
  },
  {
   "cell_type": "code",
   "execution_count": 3,
   "id": "79562970-13cd-4c7a-8c31-8261a85899ba",
   "metadata": {},
   "outputs": [
    {
     "name": "stdout",
     "output_type": "stream",
     "text": [
      "Number of training graphs: 1000\n",
      "Number of test graphs: 113\n",
      "\n"
     ]
    }
   ],
   "source": [
    "# Construct training and test set\n",
    "dataset = dataset.shuffle()\n",
    "\n",
    "dataset_train = dataset[:1000]\n",
    "dataset_test = dataset[1000:]\n",
    "\n",
    "print(f\"Number of training graphs: {len(dataset_train)}\")\n",
    "print(f\"Number of test graphs: {len(dataset_test)}\")\n",
    "print()"
   ]
  },
  {
   "cell_type": "code",
   "execution_count": 12,
   "id": "42750133-122a-42c3-9a09-1647c64a249b",
   "metadata": {},
   "outputs": [
    {
     "name": "stdout",
     "output_type": "stream",
     "text": [
      "\n",
      "Data(edge_index=[2, 40], x=[10, 3], y=[1])\n",
      "=============================================\n",
      "Number of nodes: 10\n",
      "Number of edges: 40\n",
      "Average node degree: 4.00\n",
      "Contains isolated nodes: False\n",
      "Contains self-loops: False\n",
      "Is undirected: True\n",
      "Label: tensor([0])\n"
     ]
    },
    {
     "data": {
      "image/png": "[encoded data removed]",
      "text/plain": [
       "<Figure size 432x288 with 1 Axes>"
      ]
     },
     "metadata": {},
     "output_type": "display_data"
    }
   ],
   "source": [
    "# Let's visualise a graph example\n",
    "\n",
    "example = 2\n",
    "\n",
    "data = dataset_train[example]\n",
    "\n",
    "print()\n",
    "print(data)\n",
    "print('=============================================')\n",
    "\n",
    "# Gather some statistics about the first graph.\n",
    "print(f\"Number of nodes: {data.num_nodes}\")\n",
    "print(f\"Number of edges: {data.num_edges}\")\n",
    "print(f\"Average node degree: {data.num_edges / data.num_nodes:.2f}\")\n",
    "print(f\"Contains isolated nodes: {data.contains_isolated_nodes()}\")\n",
    "print(f\"Contains self-loops: {data.contains_self_loops()}\")\n",
    "print(f\"Is undirected: {data.is_undirected()}\")\n",
    "\n",
    "data = dataset[example]\n",
    "print(\"Label:\", data.y)\n",
    "\n",
    "g = torch_geometric.utils.to_networkx(data, to_undirected=True)\n",
    "nx.draw(g)"
   ]
  },
  {
   "cell_type": "markdown",
   "id": "43eac1ad-8f89-4715-9b18-f367f33b7629",
   "metadata": {},
   "source": [
    "## Batching with pytorch geometric"
   ]
  },
  {
   "cell_type": "code",
   "execution_count": 17,
   "id": "679df2a8-5508-48bf-ad46-b16ea1ef009c",
   "metadata": {},
   "outputs": [
    {
     "name": "stdout",
     "output_type": "stream",
     "text": [
      "Number of nodes: 1170\n",
      "Number of edges: 32\n",
      "Batch(batch=[1170], edge_index=[2, 4362], ptr=[33], x=[1170, 3], y=[32])\n"
     ]
    },
    {
     "data": {
      "image/png": "[encoded data removed]",
      "text/plain": [
       "<Figure size 432x288 with 1 Axes>"
      ]
     },
     "metadata": {},
     "output_type": "display_data"
    }
   ],
   "source": [
    "from torch_geometric.data import DataLoader\n",
    "\n",
    "loader = DataLoader(dataset_train, batch_size=32, shuffle=True)\n",
    "test_loader = DataLoader(dataset_test, batch_size=32, shuffle=True)\n",
    "\n",
    "batch = next(iter(test_loader))\n",
    "\n",
    "# Gather some statistics about the batch\n",
    "print(f\"Number of nodes: {batch.num_nodes}\")\n",
    "print(f\"Number of edges: {batch.num_graphs}\")\n",
    "print(batch)\n",
    "\n",
    "g = torch_geometric.utils.to_networkx(batch[0], to_undirected=True)\n",
    "nx.draw(g)"
   ]
  },
  {
   "cell_type": "markdown",
   "id": "d58078ac-0903-46a5-b94c-1c6909fadb20",
   "metadata": {},
   "source": [
    "## Graph convolutions\n",
    "GIN convolution operator"
   ]
  },
  {
   "cell_type": "code",
   "execution_count": 20,
   "id": "b23f9d86-89f0-4d26-a673-f2edce507326",
   "metadata": {},
   "outputs": [],
   "source": [
    "from torch_geometric.utils import remove_self_loops\n",
    "import torch\n",
    "\n",
    "\n",
    "class GINConv(torch_geometric.nn.MessagePassing):\n",
    "    def __init__(self, MLP, eps=0.0):\n",
    "        super(GINConv, self).__init__(aggr='add') # Aggregation function over the message\n",
    "        self.h = MLP\n",
    "        self.epsilon = torch.nn.Parameter(torch.tensor([eps]))\n",
    "    \n",
    "    def message(self, x_j):\n",
    "        return x_j\n",
    "    \n",
    "    def update(self, aggr_out, x):\n",
    "        x = (1 + self.epsilon) * x + aggr_out\n",
    "        return self.h(x)\n",
    "    \n",
    "    def forward(self, x, edge_index):\n",
    "        edge_index, _ = remove_self_loops(edge_index)\n",
    "        return self.propagate(edge_index, x=x)"
   ]
  },
  {
   "cell_type": "code",
   "execution_count": 21,
   "id": "6cfbe882-9ca6-4cd8-a582-e270ed794a9a",
   "metadata": {},
   "outputs": [
    {
     "name": "stdout",
     "output_type": "stream",
     "text": [
      "tensor([[ 1.2316,  0.8000,  0.2487,  ..., -0.0344, -0.1046, -0.0762],\n",
      "        [ 1.6460,  1.0802,  0.2946,  ..., -0.0201, -0.2331, -0.0949],\n",
      "        [ 0.6232,  0.6246,  0.2935,  ...,  0.0593,  0.0274, -0.1769],\n",
      "        ...,\n",
      "        [ 1.1492,  0.8839,  0.3115,  ..., -0.0743, -0.0252, -0.0843],\n",
      "        [ 0.8840,  0.8373, -0.1623,  ..., -0.3727,  0.6923, -0.5739],\n",
      "        [ 0.8840,  0.8373, -0.1623,  ..., -0.3727,  0.6923, -0.5739]],\n",
      "       grad_fn=<AddmmBackward>)\n"
     ]
    }
   ],
   "source": [
    "batch = next(iter(loader))\n",
    "\n",
    "MLP = torch.nn.Sequential(torch.nn.Linear(batch.num_node_features, 32), torch.nn.ReLU(), torch.nn.Linear(32, 32))\n",
    "\n",
    "GIN = GINConv(MLP)\n",
    "features = GIN(batch.x, batch.edge_index)\n",
    "print(features)"
   ]
  },
  {
   "cell_type": "markdown",
   "id": "8e4a6a02-dfb5-4931-8d78-4611dfb68fdd",
   "metadata": {},
   "source": [
    "## Training a classification model on the PROTEINS dataset\n",
    "We will now use our GIN convolution operator to build a trainable model for our classification task. We build a somple model with 3 convolutional layers and a global average pooling operation.<br>\n",
    "Due to the batching process, average pooling across each graph is not as straightforward. Pytorch geometric has implemented so called readout layers for this purpose that can perform e.g. max and average pooling operations."
   ]
  },
  {
   "cell_type": "code",
   "execution_count": 26,
   "id": "ff8044af-b0df-49d9-8817-088644080173",
   "metadata": {},
   "outputs": [
    {
     "name": "stdout",
     "output_type": "stream",
     "text": [
      "Net(\n",
      "  (conv1): GINConv(\n",
      "    (h): MLP(\n",
      "      (mlp): Sequential(\n",
      "        (0): Linear(in_features=3, out_features=32, bias=True)\n",
      "        (1): ReLU()\n",
      "        (2): Linear(in_features=32, out_features=32, bias=True)\n",
      "      )\n",
      "    )\n",
      "  )\n",
      "  (conv2): GINConv(\n",
      "    (h): MLP(\n",
      "      (mlp): Sequential(\n",
      "        (0): Linear(in_features=32, out_features=32, bias=True)\n",
      "        (1): ReLU()\n",
      "        (2): Linear(in_features=32, out_features=32, bias=True)\n",
      "      )\n",
      "    )\n",
      "  )\n",
      "  (conv3): GINConv(\n",
      "    (h): MLP(\n",
      "      (mlp): Sequential(\n",
      "        (0): Linear(in_features=32, out_features=32, bias=True)\n",
      "        (1): ReLU()\n",
      "        (2): Linear(in_features=32, out_features=32, bias=True)\n",
      "      )\n",
      "    )\n",
      "  )\n",
      "  (W): Linear(in_features=32, out_features=1, bias=True)\n",
      ")\n"
     ]
    }
   ],
   "source": [
    "from torch.nn import Linear\n",
    "import torch.nn.functional as F\n",
    "from torch_geometric.nn import global_mean_pool # readout pooling layer\n",
    "\n",
    "torch.manual_seed(9)\n",
    "\n",
    "class MLP(torch.nn.Module):\n",
    "    def __init__(self, in_channels, hidden_channels, out_channels):\n",
    "        super(MLP, self).__init__()\n",
    "        \n",
    "        self.mlp = torch.nn.Sequential(torch.nn.Linear(in_channels, hidden_channels),\n",
    "                                      torch.nn.ReLU(),\n",
    "                                      torch.nn.Linear(hidden_channels, out_channels))\n",
    "        \n",
    "    def forward(self, x):\n",
    "        return self.mlp(x)\n",
    "    \n",
    "class Net(torch.nn.Module):\n",
    "    def __init__(self, in_channels, hidden_channels, num_classes):\n",
    "        super(Net, self).__init__()\n",
    "        \n",
    "        self.conv1 = GINConv(MLP(in_channels, hidden_channels, hidden_channels))\n",
    "        self.conv2 = GINConv(MLP(hidden_channels, hidden_channels, hidden_channels))\n",
    "        self.conv3 = GINConv(MLP(hidden_channels, hidden_channels, hidden_channels))\n",
    "        \n",
    "        self.W = Linear(hidden_channels, num_classes)\n",
    "        \n",
    "    \n",
    "    def forward(self, x, edge_index, batch):\n",
    "        # 1. Obtain node embedding\n",
    "        x = self.conv1(x, edge_index)\n",
    "        x = x.relu()\n",
    "        \n",
    "        x = self.conv2(x, edge_index)\n",
    "        x = x.relu()\n",
    "        \n",
    "        x = self.conv3(x, edge_index)\n",
    "        x = x.relu()\n",
    "        \n",
    "        x = F.dropout(x, 0.1)\n",
    "        \n",
    "        # 2. Global pooling layer\n",
    "        x = global_mean_pool(x, batch)\n",
    "        \n",
    "        # 3. Classification layer\n",
    "        x = self.W(x)\n",
    "        \n",
    "        return x\n",
    "\n",
    "model = Net(dataset.num_node_features, 32, dataset.num_classes-1)\n",
    "print(model)"
   ]
  },
  {
   "cell_type": "markdown",
   "id": "7d40647f-69ce-4e30-90ae-3cc0c980f9d0",
   "metadata": {},
   "source": [
    "## Let's train our model"
   ]
  },
  {
   "cell_type": "code",
   "execution_count": 29,
   "id": "8269d5d4-7f1b-4e99-9deb-2aff2d07dce8",
   "metadata": {},
   "outputs": [
    {
     "name": "stdout",
     "output_type": "stream",
     "text": [
      "Epoch: 000, loss: 0.6801, Train Acc: 0.6420, Test Acc: 0.6637\n",
      "Epoch: 001, loss: 0.6535, Train Acc: 0.7000, Test Acc: 0.6726\n",
      "Epoch: 002, loss: 0.6324, Train Acc: 0.6830, Test Acc: 0.6726\n",
      "Epoch: 003, loss: 0.6437, Train Acc: 0.6890, Test Acc: 0.7257\n",
      "Epoch: 004, loss: 0.6280, Train Acc: 0.7020, Test Acc: 0.7168\n",
      "Epoch: 005, loss: 0.6219, Train Acc: 0.7100, Test Acc: 0.7257\n",
      "Epoch: 006, loss: 0.6283, Train Acc: 0.6880, Test Acc: 0.7080\n",
      "Epoch: 007, loss: 0.6117, Train Acc: 0.7070, Test Acc: 0.7434\n",
      "Epoch: 008, loss: 0.6033, Train Acc: 0.6860, Test Acc: 0.6814\n",
      "Epoch: 009, loss: 0.6103, Train Acc: 0.7190, Test Acc: 0.7168\n",
      "Epoch: 010, loss: 0.6179, Train Acc: 0.6850, Test Acc: 0.6814\n",
      "Epoch: 011, loss: 0.6053, Train Acc: 0.6520, Test Acc: 0.7168\n",
      "Epoch: 012, loss: 0.6178, Train Acc: 0.6880, Test Acc: 0.6637\n",
      "Epoch: 013, loss: 0.6074, Train Acc: 0.7070, Test Acc: 0.7345\n",
      "Epoch: 014, loss: 0.6104, Train Acc: 0.7020, Test Acc: 0.7080\n",
      "Epoch: 015, loss: 0.6020, Train Acc: 0.6630, Test Acc: 0.6991\n",
      "Epoch: 016, loss: 0.6155, Train Acc: 0.7170, Test Acc: 0.7876\n",
      "Epoch: 017, loss: 0.6057, Train Acc: 0.6410, Test Acc: 0.6903\n",
      "Epoch: 018, loss: 0.6416, Train Acc: 0.6690, Test Acc: 0.7168\n",
      "Epoch: 019, loss: 0.6054, Train Acc: 0.6980, Test Acc: 0.7080\n",
      "Epoch: 020, loss: 0.6072, Train Acc: 0.7010, Test Acc: 0.7168\n",
      "Epoch: 021, loss: 0.6015, Train Acc: 0.7120, Test Acc: 0.7257\n",
      "Epoch: 022, loss: 0.6006, Train Acc: 0.7000, Test Acc: 0.7257\n",
      "Epoch: 023, loss: 0.6063, Train Acc: 0.7020, Test Acc: 0.6991\n",
      "Epoch: 024, loss: 0.5959, Train Acc: 0.6990, Test Acc: 0.6991\n",
      "Epoch: 025, loss: 0.5987, Train Acc: 0.7070, Test Acc: 0.7168\n",
      "Epoch: 026, loss: 0.6002, Train Acc: 0.6610, Test Acc: 0.7168\n",
      "Epoch: 027, loss: 0.6595, Train Acc: 0.6450, Test Acc: 0.6991\n",
      "Epoch: 028, loss: 0.6349, Train Acc: 0.6590, Test Acc: 0.7168\n",
      "Epoch: 029, loss: 0.6156, Train Acc: 0.7120, Test Acc: 0.7168\n",
      "Epoch: 030, loss: 0.6023, Train Acc: 0.7040, Test Acc: 0.6903\n",
      "Epoch: 031, loss: 0.5985, Train Acc: 0.7060, Test Acc: 0.6903\n",
      "Epoch: 032, loss: 0.6017, Train Acc: 0.7010, Test Acc: 0.6903\n",
      "Epoch: 033, loss: 0.5969, Train Acc: 0.7000, Test Acc: 0.7434\n",
      "Epoch: 034, loss: 0.5951, Train Acc: 0.7030, Test Acc: 0.6726\n",
      "Epoch: 035, loss: 0.6074, Train Acc: 0.7070, Test Acc: 0.6991\n",
      "Epoch: 036, loss: 0.5990, Train Acc: 0.7130, Test Acc: 0.6903\n",
      "Epoch: 037, loss: 0.6038, Train Acc: 0.6980, Test Acc: 0.6991\n",
      "Epoch: 038, loss: 0.5983, Train Acc: 0.7100, Test Acc: 0.7168\n",
      "Epoch: 039, loss: 0.5966, Train Acc: 0.7160, Test Acc: 0.7345\n",
      "Epoch: 040, loss: 0.6054, Train Acc: 0.7040, Test Acc: 0.7080\n",
      "Epoch: 041, loss: 0.5986, Train Acc: 0.7110, Test Acc: 0.7257\n",
      "Epoch: 042, loss: 0.6073, Train Acc: 0.7050, Test Acc: 0.7168\n",
      "Epoch: 043, loss: 0.5949, Train Acc: 0.7070, Test Acc: 0.7080\n",
      "Epoch: 044, loss: 0.5969, Train Acc: 0.7080, Test Acc: 0.7257\n",
      "Epoch: 045, loss: 0.6035, Train Acc: 0.7100, Test Acc: 0.7345\n",
      "Epoch: 046, loss: 0.5962, Train Acc: 0.7060, Test Acc: 0.7168\n",
      "Epoch: 047, loss: 0.5942, Train Acc: 0.7110, Test Acc: 0.7257\n",
      "Epoch: 048, loss: 0.5948, Train Acc: 0.7030, Test Acc: 0.7257\n",
      "Epoch: 049, loss: 0.5984, Train Acc: 0.7110, Test Acc: 0.7257\n",
      "Epoch: 050, loss: 0.5956, Train Acc: 0.7070, Test Acc: 0.7168\n",
      "Epoch: 051, loss: 0.5956, Train Acc: 0.6980, Test Acc: 0.7257\n",
      "Epoch: 052, loss: 0.6098, Train Acc: 0.7050, Test Acc: 0.7168\n",
      "Epoch: 053, loss: 0.5996, Train Acc: 0.7060, Test Acc: 0.7080\n",
      "Epoch: 054, loss: 0.6002, Train Acc: 0.7020, Test Acc: 0.7168\n",
      "Epoch: 055, loss: 0.6019, Train Acc: 0.7030, Test Acc: 0.6903\n",
      "Epoch: 056, loss: 0.6003, Train Acc: 0.6980, Test Acc: 0.7168\n",
      "Epoch: 057, loss: 0.5985, Train Acc: 0.7060, Test Acc: 0.7080\n",
      "Epoch: 058, loss: 0.6014, Train Acc: 0.7070, Test Acc: 0.7080\n",
      "Epoch: 059, loss: 0.5992, Train Acc: 0.7000, Test Acc: 0.6903\n",
      "Epoch: 060, loss: 0.5940, Train Acc: 0.7060, Test Acc: 0.7168\n",
      "Epoch: 061, loss: 0.6011, Train Acc: 0.7100, Test Acc: 0.7257\n",
      "Epoch: 062, loss: 0.6194, Train Acc: 0.7040, Test Acc: 0.7257\n",
      "Epoch: 063, loss: 0.6002, Train Acc: 0.7100, Test Acc: 0.7345\n",
      "Epoch: 064, loss: 0.6007, Train Acc: 0.7110, Test Acc: 0.7168\n",
      "Epoch: 065, loss: 0.6021, Train Acc: 0.6520, Test Acc: 0.7080\n",
      "Epoch: 066, loss: 0.6178, Train Acc: 0.7050, Test Acc: 0.7168\n",
      "Epoch: 067, loss: 0.5975, Train Acc: 0.7040, Test Acc: 0.7257\n",
      "Epoch: 068, loss: 0.5943, Train Acc: 0.7080, Test Acc: 0.7080\n",
      "Epoch: 069, loss: 0.5961, Train Acc: 0.7040, Test Acc: 0.7168\n",
      "Epoch: 070, loss: 0.5963, Train Acc: 0.7090, Test Acc: 0.7168\n",
      "Epoch: 071, loss: 0.6083, Train Acc: 0.7080, Test Acc: 0.7699\n",
      "Epoch: 072, loss: 0.6059, Train Acc: 0.7090, Test Acc: 0.7168\n",
      "Epoch: 073, loss: 0.6023, Train Acc: 0.6940, Test Acc: 0.7080\n",
      "Epoch: 074, loss: 0.5960, Train Acc: 0.7020, Test Acc: 0.7168\n",
      "Epoch: 075, loss: 0.5967, Train Acc: 0.7160, Test Acc: 0.7257\n",
      "Epoch: 076, loss: 0.5995, Train Acc: 0.7030, Test Acc: 0.7080\n",
      "Epoch: 077, loss: 0.6081, Train Acc: 0.6910, Test Acc: 0.6814\n",
      "Epoch: 078, loss: 0.6011, Train Acc: 0.6970, Test Acc: 0.7080\n",
      "Epoch: 079, loss: 0.6037, Train Acc: 0.7070, Test Acc: 0.7168\n",
      "Epoch: 080, loss: 0.6001, Train Acc: 0.7110, Test Acc: 0.7434\n",
      "Epoch: 081, loss: 0.5943, Train Acc: 0.7090, Test Acc: 0.6991\n",
      "Epoch: 082, loss: 0.5988, Train Acc: 0.7030, Test Acc: 0.7168\n",
      "Epoch: 083, loss: 0.6042, Train Acc: 0.7060, Test Acc: 0.7080\n",
      "Epoch: 084, loss: 0.6149, Train Acc: 0.7050, Test Acc: 0.7345\n",
      "Epoch: 085, loss: 0.5971, Train Acc: 0.7060, Test Acc: 0.6903\n",
      "Epoch: 086, loss: 0.5953, Train Acc: 0.6870, Test Acc: 0.6991\n",
      "Epoch: 087, loss: 0.6016, Train Acc: 0.7130, Test Acc: 0.7168\n",
      "Epoch: 088, loss: 0.5952, Train Acc: 0.7030, Test Acc: 0.7168\n",
      "Epoch: 089, loss: 0.6002, Train Acc: 0.7090, Test Acc: 0.7168\n",
      "Epoch: 090, loss: 0.5984, Train Acc: 0.6900, Test Acc: 0.7168\n",
      "Epoch: 091, loss: 0.6149, Train Acc: 0.7080, Test Acc: 0.6991\n",
      "Epoch: 092, loss: 0.6014, Train Acc: 0.7110, Test Acc: 0.7168\n",
      "Epoch: 093, loss: 0.6131, Train Acc: 0.6980, Test Acc: 0.6991\n",
      "Epoch: 094, loss: 0.6092, Train Acc: 0.7000, Test Acc: 0.7080\n",
      "Epoch: 095, loss: 0.6034, Train Acc: 0.6970, Test Acc: 0.6903\n",
      "Epoch: 096, loss: 0.6064, Train Acc: 0.7020, Test Acc: 0.7434\n",
      "Epoch: 097, loss: 0.5928, Train Acc: 0.6990, Test Acc: 0.7080\n",
      "Epoch: 098, loss: 0.5962, Train Acc: 0.7110, Test Acc: 0.7257\n",
      "Epoch: 099, loss: 0.5930, Train Acc: 0.7140, Test Acc: 0.7345\n"
     ]
    }
   ],
   "source": [
    "num_epochs = 100\n",
    "device = torch.device('cpu')\n",
    "# liveloss = PlotLosses()\n",
    "\n",
    "def train():\n",
    "    model.train()\n",
    "    all_loss = 0\n",
    "    for data in loader:\n",
    "        optimizer.zero_grad()\n",
    "        data.to(device)\n",
    "        out = model(data.x, data.edge_index, data.batch)\n",
    "        loss = criterion(out, data.y.to(device).unsqueeze(-1).float())\n",
    "        \n",
    "        loss.backward()\n",
    "        optimizer.step()\n",
    "        \n",
    "        all_loss += data.num_graphs * loss.item()\n",
    "    \n",
    "    return all_loss / len(loader.dataset)\n",
    "\n",
    "def test(dataloader):\n",
    "    model.eval()\n",
    "    \n",
    "    correct = 0\n",
    "    \n",
    "    with torch.no_grad():\n",
    "        for data in dataloader:\n",
    "            data = data.to(device)\n",
    "            out = model(data.x, data.edge_index, data.batch)\n",
    "            pred = torch.sigmoid(out).round().squeeze().detach().cpu().numpy()\n",
    "            correct += int((pred == data.y.detach().cpu().numpy()).sum())\n",
    "    return correct / len(dataloader.dataset)\n",
    "\n",
    "optimizer = torch.optim.Adam(model.parameters(), lr=0.01, weight_decay=5e-4)\n",
    "criterion = torch.nn.BCEWithLogitsLoss()\n",
    "model = model.to(device)\n",
    "\n",
    "for epoch in range(num_epochs):\n",
    "    logs = {}\n",
    "    loss = train()\n",
    "    train_acc = test(loader)\n",
    "    test_acc = test(test_loader)\n",
    "    logs['loss'] = loss\n",
    "    logs['train accuracy'] = train_acc\n",
    "    logs['test accuracy'] = test_acc\n",
    "#     liveloss.update(logs)\n",
    "#     liveloss.send()\n",
    "    print(f\"Epoch: {epoch:03d}, loss: {loss:.4f}, Train Acc: {train_acc:.4f}, Test Acc: {test_acc:.4f}\")"
   ]
  },
  {
   "cell_type": "code",
   "execution_count": null,
   "id": "82446df5-5feb-4394-a33c-d1ee3196fa27",
   "metadata": {},
   "outputs": [],
   "source": []
  }
 ],
 "metadata": {
  "kernelspec": {
   "display_name": "Python 3 (ipykernel)",
   "language": "python",
   "name": "python3"
  },
  "language_info": {
   "codemirror_mode": {
    "name": "ipython",
    "version": 3
   },
   "file_extension": ".py",
   "mimetype": "text/x-python",
   "name": "python",
   "nbconvert_exporter": "python",
   "pygments_lexer": "ipython3",
   "version": "3.9.6"
  }
 },
 "nbformat": 4,
 "nbformat_minor": 5
}
